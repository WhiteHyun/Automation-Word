{
 "cells": [
  {
   "cell_type": "code",
   "execution_count": 1,
   "metadata": {},
   "outputs": [],
   "source": [
    "import pandas as pd\n",
    "from docx import Document\n",
    "from docx.shared import Cm\n"
   ]
  },
  {
   "cell_type": "markdown",
   "metadata": {},
   "source": [
    "## docx\n",
    "\n",
    "- word를 자동화 할 수 있게 도와주는 모듈입니다."
   ]
  },
  {
   "cell_type": "code",
   "execution_count": 4,
   "metadata": {},
   "outputs": [],
   "source": [
    "# document 객체 생성\n",
    "doc = Document(\"모바일 소프트웨어 클래스 A 중간고사.docx\")"
   ]
  },
  {
   "cell_type": "markdown",
   "metadata": {},
   "source": [
    "## doc.tables\n",
    "\n",
    "- docx 문서 내에 table(표)가 들어가 있는지를 확인합니다.\n",
    "- 제가 각 문제마다 테이블을 구성해놨기 때문에 4개의 리스트 요소가 나타나는 것을 확인할 수 있습니다."
   ]
  },
  {
   "cell_type": "code",
   "execution_count": 30,
   "metadata": {},
   "outputs": [
    {
     "data": {
      "text/plain": [
       "[<docx.table.Table at 0x205a3a9ce20>,\n",
       " <docx.table.Table at 0x205a3a9cbe0>,\n",
       " <docx.table.Table at 0x205a3a9cc10>,\n",
       " <docx.table.Table at 0x205b3fc1220>]"
      ]
     },
     "execution_count": 30,
     "metadata": {},
     "output_type": "execute_result"
    }
   ],
   "source": [
    "doc.tables"
   ]
  },
  {
   "cell_type": "markdown",
   "metadata": {},
   "source": [
    "## doc.table.rows\n",
    "\n",
    "- table 내에 각 row(행)들을 나타냅니다.\n",
    "\n",
    "## doc.table.row.cells\n",
    "\n",
    "- 행에 여러 셀들을 나타냅니다.\n",
    "\n",
    "## doc.table.row.cell.paragraphs\n",
    "\n",
    "- 특정 셀의 모든 글을 가져옵니다."
   ]
  },
  {
   "cell_type": "code",
   "execution_count": 28,
   "metadata": {},
   "outputs": [
    {
     "name": "stdout",
     "output_type": "stream",
     "text": [
      "<docx.table._Row object at 0x00000205B4CF3F70>\n",
      "<docx.table._Row object at 0x00000205B4CF3B50>\n",
      "<docx.table._Row object at 0x00000205B4CF3700>\n",
      "<docx.table._Row object at 0x00000205B4CF32E0>\n"
     ]
    }
   ],
   "source": [
    "for i in doc.tables[0].rows: \n",
    "    print(i)"
   ]
  },
  {
   "cell_type": "code",
   "execution_count": 49,
   "metadata": {},
   "outputs": [
    {
     "data": {
      "text/plain": [
       "'activity_main.xml'"
      ]
     },
     "execution_count": 49,
     "metadata": {},
     "output_type": "execute_result"
    }
   ],
   "source": [
    "# doc.tables[0].rows\n",
    "# 테이블 접근 -> 각 행 접근 -> 행 마다 셀 접근 -> 셀 내부에 글 접근 -> 각 문장의 text 가져오기\n",
    "doc.tables[0].rows[0].cells[0].paragraphs[0].text"
   ]
  },
  {
   "cell_type": "markdown",
   "metadata": {},
   "source": [
    "# 각 문제당 표의 형태\n",
    "\n",
    "|   activity_main.xml   |\n",
    "| :-------------------: |\n",
    "| activity_main codes.. |\n",
    "|    MainActivity.kt    |\n",
    "|    kotlin codes..     |\n",
    "|        ...more        |\n"
   ]
  },
  {
   "cell_type": "code",
   "execution_count": 62,
   "metadata": {},
   "outputs": [
    {
     "name": "stdout",
     "output_type": "stream",
     "text": [
      "activity_main.xml\n",
      "\n",
      "strings.xml\n",
      "\n",
      "activity_main.xml\n",
      "<?xml version=\"1.0\" encoding=\"utf-8\"?>\n",
      "<LinearLayout xmlns:android=\"http://schemas.android.com/apk/res/android\"\n",
      "    android:layout_width=\"match_parent\"\n",
      "    android:layout_height=\"match_parent\"\n",
      "    android:orientation=\"vertical\" >\n",
      "\n",
      "    <TextView\n",
      "        android:layout_width=\"match_parent\"\n",
      "        android:layout_height=\"wrap_content\"\n",
      "        android:text=\"@string/title\"\n",
      "        android:textSize=\"18sp\"\n",
      "        android:textColor=\"#61380B\" />\n",
      "\n",
      "    <TextView\n",
      "        android:layout_width=\"match_parent\"\n",
      "        android:layout_height=\"wrap_content\"\n",
      "        android:text=\"@string/artist\"\n",
      "        android:textSize=\"15sp\"\n",
      "        android:textColor=\"#22741C\"/>\n",
      "\n",
      "    <ImageView\n",
      "        android:id=\"@+id/nightImageView\"\n",
      "        android:layout_width=\"wrap_content\"\n",
      "        android:layout_height=\"wrap_content\"\n",
      "        android:layout_marginBottom=\"20dp\"\n",
      "        android:adjustViewBounds=\"true\"\n",
      "        android:maxWidth=\"300dp\"\n",
      "        android:maxHeight=\"300dp\"\n",
      "        android:src=\"@drawable/starry_night\" />\n",
      "\n",
      "    <TextView\n",
      "        android:id=\"@+id/desTextView\"\n",
      "        android:layout_width=\"match_parent\"\n",
      "        android:layout_height=\"wrap_content\"\n",
      "        android:text=\"@string/desc\"\n",
      "        android:textColor=\"#61380B\"\n",
      "        android:textSize=\"14sp\" />\n",
      "\n",
      "</LinearLayout>\n",
      "strings.xml\n",
      "<resources>\n",
      "    <string name=\"title\">별이 빛나는 밤(The Starry Night, 1889)</string>\n",
      "    <string name=\"artist\">빈센트 반 고흐(Vincent van Gogh)</string>\n",
      "    <string name=\"desc\">\n",
      "        빈센트 반 고흐의 대표작 중 하나로 꼽히는 《별이 빛나는 밤》은 그가 고갱과 다툰 뒤\n",
      "        자신의 귀를 자른 사건 이후 생레미의 요양원에 있을 때 그린 것이다.\\n\n",
      "\n",
      "        그는 병실 밖으로 내다보이는 밤 풍경을 기억과 상상을 결합시켜 그렸는데,\n",
      "        이는 자연에 대한 반 고흐의 내적이고 주관적인 표현을 구현하고 있다.\\n\n",
      "\n",
      "        고흐에게 밤하늘은 유한함을 표현하는 대상이었다. \\n\n",
      "        [출처]위키피디아\n",
      "    </string>\n",
      "</resources>\n",
      "MainActivity.kt\n",
      "class MainActivity : AppCompatActivity() {\n",
      "\n",
      "    override fun onCreate(savedInstanceState: Bundle?) {\n",
      "        super.onCreate(savedInstanceState)\n",
      "        setContentView(R.layout.activity_main)\n",
      "    }\n",
      "}\n",
      "activity_main.xml\n",
      "\n",
      "MainActivity.kt\n",
      "class MainActivity : AppCompatActivity() {\n",
      "\n",
      "    override fun onCreate(savedInstanceState: Bundle?) {\n",
      "        super.onCreate(savedInstanceState)\n",
      "        setContentView(R.layout.activity_main)\n",
      "\n",
      "    }\n",
      "}\n"
     ]
    }
   ],
   "source": [
    "for table in doc.tables: # table 은 각각 한 문제임.\n",
    "    for row in table.rows: # 표는 각각의 행으로 구성되어 있다.\n",
    "        for paragraph in row.cells[0].paragraphs:\n",
    "            print(paragraph.text)"
   ]
  },
  {
   "cell_type": "markdown",
   "metadata": {},
   "source": [
    "# 자동화 프로그램을 만들어보자!\n",
    "\n",
    "## 전처리해야할 것\n",
    "\n",
    "1. 학생들의 파일 양식을 동일 시 한다.\n",
    "    > 현재 파일 내에 `학번_이름.docx`로 통일시켰다.\n",
    "\n",
    "2. 한 폴더에 각 학생들의 중간고사 파일을 넣는다.\n",
    "\n",
    "3. 자동화 프로그램을 실행한다.\n",
    "\n",
    "4. 해당 학생의 파일명으로 폴더를 만들고, 문제당 코드를 알아서 배치하게 만들어보자.\n"
   ]
  },
  {
   "cell_type": "code",
   "execution_count": 53,
   "metadata": {},
   "outputs": [],
   "source": [
    "from os import listdir # 파일을 자동으로 읽어오기 위한 listdir 함수 임포트"
   ]
  },
  {
   "cell_type": "code",
   "execution_count": 54,
   "metadata": {},
   "outputs": [
    {
     "data": {
      "text/plain": [
       "['202012345_홍길동.docx']"
      ]
     },
     "execution_count": 54,
     "metadata": {},
     "output_type": "execute_result"
    }
   ],
   "source": [
    "path_dir = \"중간고사A\"\n",
    "file_list = listdir(path_dir)\n",
    "file_list"
   ]
  },
  {
   "cell_type": "code",
   "execution_count": null,
   "metadata": {},
   "outputs": [],
   "source": [
    "for file in file_list: # 학생의 파일을 읽어감\n",
    "    pass # 그 후 위에 했던 작업들.."
   ]
  },
  {
   "cell_type": "markdown",
   "metadata": {},
   "source": [
    "## 함수화\n",
    "\n",
    "- auto.py 로 생성했습니다. 64줄의 파이썬 메인코드를 맞춰 실행해주시면 감사하겠습니다."
   ]
  },
  {
   "cell_type": "code",
   "execution_count": null,
   "metadata": {},
   "outputs": [],
   "source": []
  }
 ],
 "metadata": {
  "interpreter": {
   "hash": "b7cfd0cced7b8af62a1ad8fe362b8ac86ec82f0fb3c47a6628c03072dd7585f3"
  },
  "kernelspec": {
   "display_name": "Python 3.9.7 64-bit",
   "name": "python3"
  },
  "language_info": {
   "codemirror_mode": {
    "name": "ipython",
    "version": 3
   },
   "file_extension": ".py",
   "mimetype": "text/x-python",
   "name": "python",
   "nbconvert_exporter": "python",
   "pygments_lexer": "ipython3",
   "version": "3.9.7"
  },
  "orig_nbformat": 4
 },
 "nbformat": 4,
 "nbformat_minor": 2
}
