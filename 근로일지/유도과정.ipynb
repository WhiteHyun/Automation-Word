{
 "cells": [
  {
   "cell_type": "code",
   "execution_count": 1,
   "source": [
    "import docx\n",
    "from docx.shared import Cm\n",
    "# from docx.shared import Pt\n",
    "# from docx.enum.text import WD_PARAGRAPH_ALIGNMENT\n"
   ],
   "outputs": [],
   "metadata": {}
  },
  {
   "cell_type": "code",
   "execution_count": 2,
   "source": [
    "# 문서 양식 읽어옴\n",
    "templ = docx.Document(\"양식.docx\")\n",
    "type(templ)"
   ],
   "outputs": [
    {
     "output_type": "execute_result",
     "data": {
      "text/plain": [
       "docx.document.Document"
      ]
     },
     "metadata": {},
     "execution_count": 2
    }
   ],
   "metadata": {}
  },
  {
   "cell_type": "code",
   "execution_count": 3,
   "source": [
    "# 각 paragraph 출력, x는 index임\n",
    "for x, paragraph in enumerate(templ.paragraphs):\n",
    "    print(f\"{x}: {paragraph.text}\")"
   ],
   "outputs": [
    {
     "output_type": "stream",
     "name": "stdout",
     "text": [
      "0: * 위 내용은 당일 지원 활동임을 확인하였습니다.        \n",
      "1:               근로장학생 서명:   성명 (인)\n",
      "2:  장애대학생 서명:   성명 (인) \n"
     ]
    }
   ],
   "metadata": {}
  },
  {
   "cell_type": "code",
   "execution_count": 4,
   "source": [
    "# table은 따로 관리됨. 문서.tables를 사용하면 각 테이블을 `list`로 전달\n",
    "tables = templ.tables\n",
    "\n",
    "print(type(tables))\n",
    "print(tables)"
   ],
   "outputs": [
    {
     "output_type": "stream",
     "name": "stdout",
     "text": [
      "<class 'list'>\n",
      "[<docx.table.Table object at 0x7fe5493db6d0>]\n"
     ]
    }
   ],
   "metadata": {}
  },
  {
   "cell_type": "markdown",
   "source": [
    "## 표의 각 셀에 값을 입력하기\r\n",
    "\r\n",
    "- rows: 테이블의 `행`\r\n",
    "- cells: 각 `행` 중의 **칸**\r\n",
    "- paragraphs: **칸** 내부의 내용 객체\r\n",
    "- paragraphs\\[index\\].text: 칸 내부의 내용의 텍스트"
   ],
   "metadata": {}
  },
  {
   "cell_type": "code",
   "execution_count": 24,
   "source": [
    "temp_text: str = work_day.text\n",
    "temp_text[8:10]"
   ],
   "outputs": [
    {
     "output_type": "execute_result",
     "data": {
      "text/plain": [
       "'  '"
      ]
     },
     "metadata": {},
     "execution_count": 24
    }
   ],
   "metadata": {}
  },
  {
   "cell_type": "code",
   "execution_count": 6,
   "source": [
    "work_day = tables[0].rows[3].cells[1].paragraphs[0]\n",
    "work_time = tables[0].rows[3].cells[3].paragraphs\n",
    "\n",
    "work_sentence = tables[0].rows[5].cells[1].paragraphs\n",
    "work_picture = tables[0].rows[6].cells[1].paragraphs[0].add_run()\n",
    "\n",
    "print(work_day.text[6], work_day.text[10])\n",
    "work_day.text\n",
    "work_day.text[6] = \"10\"\n",
    "work_day.text[10] = \"31\"\n",
    "\n",
    "for time in work_time:\n",
    "    time.text[2:4] = \"17\"\n",
    "    time.text[7:9] = \"30\"\n",
    "\n",
    "\n",
    "print(work_sentence[0].text)\n",
    "templ.save(\"test.docx\")"
   ],
   "outputs": [
    {
     "output_type": "stream",
     "name": "stdout",
     "text": [
      "9 3\n"
     ]
    },
    {
     "output_type": "error",
     "ename": "TypeError",
     "evalue": "'str' object does not support item assignment",
     "traceback": [
      "\u001b[0;31m---------------------------------------------------------------------------\u001b[0m",
      "\u001b[0;31mTypeError\u001b[0m                                 Traceback (most recent call last)",
      "\u001b[0;32m<ipython-input-6-78f3b578fd15>\u001b[0m in \u001b[0;36m<module>\u001b[0;34m\u001b[0m\n\u001b[1;32m      7\u001b[0m \u001b[0mprint\u001b[0m\u001b[0;34m(\u001b[0m\u001b[0mwork_day\u001b[0m\u001b[0;34m.\u001b[0m\u001b[0mtext\u001b[0m\u001b[0;34m[\u001b[0m\u001b[0;36m6\u001b[0m\u001b[0;34m]\u001b[0m\u001b[0;34m,\u001b[0m \u001b[0mwork_day\u001b[0m\u001b[0;34m.\u001b[0m\u001b[0mtext\u001b[0m\u001b[0;34m[\u001b[0m\u001b[0;36m10\u001b[0m\u001b[0;34m]\u001b[0m\u001b[0;34m)\u001b[0m\u001b[0;34m\u001b[0m\u001b[0;34m\u001b[0m\u001b[0m\n\u001b[1;32m      8\u001b[0m \u001b[0mwork_day\u001b[0m\u001b[0;34m.\u001b[0m\u001b[0mtext\u001b[0m\u001b[0;34m\u001b[0m\u001b[0;34m\u001b[0m\u001b[0m\n\u001b[0;32m----> 9\u001b[0;31m \u001b[0mwork_day\u001b[0m\u001b[0;34m.\u001b[0m\u001b[0mtext\u001b[0m\u001b[0;34m[\u001b[0m\u001b[0;36m6\u001b[0m\u001b[0;34m]\u001b[0m \u001b[0;34m=\u001b[0m \u001b[0;34m\"10\"\u001b[0m\u001b[0;34m\u001b[0m\u001b[0;34m\u001b[0m\u001b[0m\n\u001b[0m\u001b[1;32m     10\u001b[0m \u001b[0mwork_day\u001b[0m\u001b[0;34m.\u001b[0m\u001b[0mtext\u001b[0m\u001b[0;34m[\u001b[0m\u001b[0;36m10\u001b[0m\u001b[0;34m]\u001b[0m \u001b[0;34m=\u001b[0m \u001b[0;34m\"31\"\u001b[0m\u001b[0;34m\u001b[0m\u001b[0;34m\u001b[0m\u001b[0m\n\u001b[1;32m     11\u001b[0m \u001b[0;34m\u001b[0m\u001b[0m\n",
      "\u001b[0;31mTypeError\u001b[0m: 'str' object does not support item assignment"
     ]
    }
   ],
   "metadata": {}
  },
  {
   "cell_type": "code",
   "execution_count": 94,
   "source": [
    "# work_sentence[0].add_run(\"test 문장 추가\")\n",
    "# work_sentence.add_paragraph(\"test\")\n",
    "# templ.save(\"test.docx\")"
   ],
   "outputs": [],
   "metadata": {}
  },
  {
   "cell_type": "code",
   "execution_count": 87,
   "source": [
    "work_picture.add_picture(\"test_image.JPG\", width=Cm(11.62), height=Cm(7.24))\n",
    "templ.save(\"test.docx\")"
   ],
   "outputs": [],
   "metadata": {}
  },
  {
   "cell_type": "markdown",
   "source": [
    "## word 문서의 중간에 새로운  paragraph 삽입하기\r\n",
    "\r\n",
    "`insert_paragraph_before`를 사용해야 한다. \r\n",
    "다음과 같이 삽입할 부분의 패러그래프 번호(아래 사례는 6번째 패러그래프에 삽입하는 것이다)를 지정하고, 삽입하고자 하는 패러그래프를 입력한다."
   ],
   "metadata": {}
  },
  {
   "cell_type": "code",
   "execution_count": null,
   "source": [
    "templ.paragraphs[6].insert_paragraph_before(\"문장을 삽입한다.\")"
   ],
   "outputs": [],
   "metadata": {}
  }
 ],
 "metadata": {
  "orig_nbformat": 4,
  "language_info": {
   "name": "python",
   "version": "3.8.5",
   "mimetype": "text/x-python",
   "codemirror_mode": {
    "name": "ipython",
    "version": 3
   },
   "pygments_lexer": "ipython3",
   "nbconvert_exporter": "python",
   "file_extension": ".py"
  },
  "kernelspec": {
   "name": "python3",
   "display_name": "Python 3.8.5 64-bit ('base': conda)"
  },
  "interpreter": {
   "hash": "e6660baea0803492447b44bc1605e0255c69d336a174a3eaa2e51c9f31b7844a"
  }
 },
 "nbformat": 4,
 "nbformat_minor": 2
}